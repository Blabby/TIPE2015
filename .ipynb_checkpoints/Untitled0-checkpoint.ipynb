{
 "metadata": {
  "name": "",
  "signature": "sha256:8b71765337a2458f30a105c939018cc9d845844e42e5a979731586e9ac2eebad"
 },
 "nbformat": 3,
 "nbformat_minor": 0,
 "worksheets": []
}